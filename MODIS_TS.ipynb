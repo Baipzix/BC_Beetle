{
  "nbformat": 4,
  "nbformat_minor": 0,
  "metadata": {
    "colab": {
      "provenance": [],
      "toc_visible": true,
      "authorship_tag": "ABX9TyO0QtVJYL6/9EHt1Co3d1wa",
      "include_colab_link": true
    },
    "kernelspec": {
      "name": "python3",
      "display_name": "Python 3"
    },
    "language_info": {
      "name": "python"
    }
  },
  "cells": [
    {
      "cell_type": "markdown",
      "metadata": {
        "id": "view-in-github",
        "colab_type": "text"
      },
      "source": [
        "<a href=\"https://colab.research.google.com/github/Baipzix/BC_Beetle/blob/main/MODIS_TS.ipynb\" target=\"_parent\"><img src=\"https://colab.research.google.com/assets/colab-badge.svg\" alt=\"Open In Colab\"/></a>"
      ]
    },
    {
      "cell_type": "code",
      "execution_count": 1,
      "metadata": {
        "id": "qhm7ghA4hpmY"
      },
      "outputs": [],
      "source": [
        "import ee"
      ]
    },
    {
      "cell_type": "code",
      "source": [
        "# Trigger the authentication flow.\n",
        "# ee.Authenticate()"
      ],
      "metadata": {
        "id": "f2fSC1KjhrqQ"
      },
      "execution_count": 2,
      "outputs": []
    },
    {
      "cell_type": "code",
      "source": [
        "# Initialize the library.\n",
        "ee.Initialize(project='bc-forest-health-v1-0')"
      ],
      "metadata": {
        "id": "Lh4gqxgohwEd"
      },
      "execution_count": 4,
      "outputs": []
    },
    {
      "cell_type": "code",
      "source": [
        "# Import the MODIS land cover collection.\n",
        "lc = ee.ImageCollection('MODIS/006/MCD12Q1')\n",
        "\n",
        "# Import the MODIS land surface temperature collection.\n",
        "lst = ee.ImageCollection('MODIS/061/MOD11A1')\n",
        "\n",
        "# Import the USGS ground elevation image.\n",
        "elv = ee.Image('USGS/SRTMGL1_003')"
      ],
      "metadata": {
        "id": "kB_RdZN2iFUd"
      },
      "execution_count": 5,
      "outputs": []
    },
    {
      "cell_type": "code",
      "source": [
        "print('MODIS')"
      ],
      "metadata": {
        "colab": {
          "base_uri": "https://localhost:8080/"
        },
        "id": "NeOghlBJlyvX",
        "outputId": "be7b0172-f91d-437a-c8ae-80cfb5a3257c"
      },
      "execution_count": 6,
      "outputs": [
        {
          "output_type": "stream",
          "name": "stdout",
          "text": [
            "MODIS\n"
          ]
        }
      ]
    },
    {
      "cell_type": "code",
      "source": [
        "rr_name = 'RKB'\n",
        "aoi = ee.FeatureCollection('bc-forest-health-v1-0/assets/ResourceRegion').filter(\n",
        "    ee.Filter.eq('ORG_UNIT_N', rr_name)).geometry()"
      ],
      "metadata": {
        "id": "dhZfZ7Exl0_e"
      },
      "execution_count": 7,
      "outputs": []
    }
  ]
}