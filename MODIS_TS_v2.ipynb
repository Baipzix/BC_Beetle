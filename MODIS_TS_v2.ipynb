{
  "nbformat": 4,
  "nbformat_minor": 0,
  "metadata": {
    "colab": {
      "provenance": [],
      "authorship_tag": "ABX9TyPoyEwySUnDZI4kP48GtdXa",
      "include_colab_link": true
    },
    "kernelspec": {
      "name": "python3",
      "display_name": "Python 3"
    },
    "language_info": {
      "name": "python"
    }
  },
  "cells": [
    {
      "cell_type": "markdown",
      "metadata": {
        "id": "view-in-github",
        "colab_type": "text"
      },
      "source": [
        "<a href=\"https://colab.research.google.com/github/Baipzix/BC_Beetle/blob/main/MODIS_TS_v2.ipynb\" target=\"_parent\"><img src=\"https://colab.research.google.com/assets/colab-badge.svg\" alt=\"Open In Colab\"/></a>"
      ]
    },
    {
      "cell_type": "code",
      "execution_count": 1,
      "metadata": {
        "id": "aNiQnrNtFcrJ"
      },
      "outputs": [],
      "source": [
        "import ee\n",
        "\n",
        "import pandas as pd\n",
        "import altair as alt\n",
        "import numpy as np\n",
        "import folium\n"
      ]
    },
    {
      "cell_type": "code",
      "source": [
        "# Trigger the authentication flow.\n",
        "ee.Authenticate()"
      ],
      "metadata": {
        "id": "G8wa8LH6Frm-"
      },
      "execution_count": 3,
      "outputs": []
    },
    {
      "cell_type": "code",
      "source": [
        "# Initialize the library.\n",
        "ee.Initialize(project='bc-forest-health-v1-0')"
      ],
      "metadata": {
        "id": "5vYgp_x7FnwG"
      },
      "execution_count": 4,
      "outputs": []
    },
    {
      "cell_type": "code",
      "source": [
        "# start and end date\n",
        "date_range = ee.DateRange('2020-01-01', '2023-12-31')\n",
        "\n",
        "# select the band\n",
        "datalist = ['LST', 'NDVI', 'EVI']\n",
        "\n",
        "data_i = 1\n",
        "\n",
        " # regional name such as RKB, ROM, RCB, RNO...\n",
        "rrlist = ['RKB', 'ROM', 'RCB', 'RNO', 'RSK', 'RSC', 'RTO', 'RWC']\n",
        "rr_i = 2\n"
      ],
      "metadata": {
        "id": "rq_ffLjfFvNF"
      },
      "execution_count": 6,
      "outputs": []
    },
    {
      "cell_type": "code",
      "source": [
        "modislist = ['MODIS/061/MOD11A1', 'MODIS/061/MOD13Q1', 'MODIS/061/MOD13Q1']\n",
        "\n",
        "modis = modislist[data_i]\n",
        "modis_band = datalist[data_i]\n",
        "rr_name = rrlist[rr_i]\n",
        "\n",
        "resource_region = ee.FeatureCollection('projects/bc-forest-health-v1-0/assets/ResourceRegion')\n",
        "# Filter the feature collection based on the 'Cl1' attribute\n",
        "filtered_region = resource_region.filter(ee.Filter.eq('ORG_UNIT', rr_name))"
      ],
      "metadata": {
        "id": "lHkEB62IGi8w"
      },
      "execution_count": 7,
      "outputs": []
    },
    {
      "cell_type": "code",
      "source": [
        "# Function to add Earth Engine image tiles to folium map\n",
        "def add_ee_layer(self, ee_image_object, vis_params, name):\n",
        "  map_id_dict = ee.Image(ee_image_object).getMapId(vis_params)\n",
        "  folium.raster_layers.TileLayer(\n",
        "    tiles = map_id_dict['tile_fetcher'].url_format,\n",
        "    attr = 'Map Data &copy; <a href=\"https://earthengine.google.com/\">Google Earth Engine</a>',\n",
        "    name = name,\n",
        "    overlay = True,\n",
        "    control = True\n",
        "  ).add_to(self)\n",
        "\n",
        "# Add EE drawing method to folium.\n",
        "folium.Map.add_ee_layer = add_ee_layer"
      ],
      "metadata": {
        "id": "cssDHw3ZKyKV"
      },
      "execution_count": 9,
      "outputs": []
    },
    {
      "cell_type": "code",
      "source": [
        "\n",
        "aoi = ee.Geometry.Rectangle([-139, 48, -114, 60])  # Replace with actual coordinates\n",
        "\n",
        "# Load the MODIS/061/MOD11A1 dataset\n",
        "collection = ee.ImageCollection(modis) \\\n",
        "    .filterDate(date_range) \\\n",
        "    .select(modis_band)\n",
        "\n",
        "\n",
        "# Clip the LST images to the filtered region\n",
        "clipped_collection = collection.map(lambda image: image.clip(filtered_region))\n",
        "\n",
        "# Get the mean LST value for each image in the collection\n",
        "def compute_mean(image):\n",
        "    return image.reduceRegion(\n",
        "        reducer=ee.Reducer.mean(),\n",
        "        geometry=aoi,\n",
        "        scale=100  # Resolution in meters\n",
        "    )\n",
        "\n",
        "# Map the function over the collection\n",
        "daily_mean_lst = clipped_collection.mean()\n",
        "\n",
        "\n",
        "# Create a folium map centered around the AOI\n",
        "map_center = [55, -125]  # Replace with actual coordinates\n",
        "mymap = folium.Map(location=map_center, zoom_start=5)\n",
        "\n",
        "# Add the LST layer to the map\n",
        "vis_params = {'min': 100, 'max': 10000, 'palette': ['blue', 'green', 'red']}\n",
        "mymap.add_ee_layer(daily_mean_lst.select(modis_band), vis_params, modis_band)\n",
        "\n",
        "# Display the map\n",
        "mymap"
      ],
      "metadata": {
        "id": "TxLeKeKJ0DFO",
        "colab": {
          "base_uri": "https://localhost:8080/",
          "height": 998
        },
        "outputId": "dbf1fc08-31c1-452c-b018-412af06630a9"
      },
      "execution_count": 10,
      "outputs": [
        {
          "output_type": "execute_result",
          "data": {
            "text/plain": [
              "<folium.folium.Map at 0x7b19507d5a50>"
            ],
            "text/html": [
              "<div style=\"width:100%;\"><div style=\"position:relative;width:100%;height:0;padding-bottom:60%;\"><span style=\"color:#565656\">Make this Notebook Trusted to load map: File -> Trust Notebook</span><iframe srcdoc=\"&lt;!DOCTYPE html&gt;\n",
              "&lt;html&gt;\n",
              "&lt;head&gt;\n",
              "    \n",
              "    &lt;meta http-equiv=&quot;content-type&quot; content=&quot;text/html; charset=UTF-8&quot; /&gt;\n",
              "    \n",
              "        &lt;script&gt;\n",
              "            L_NO_TOUCH = false;\n",
              "            L_DISABLE_3D = false;\n",
              "        &lt;/script&gt;\n",
              "    \n",
              "    &lt;style&gt;html, body {width: 100%;height: 100%;margin: 0;padding: 0;}&lt;/style&gt;\n",
              "    &lt;style&gt;#map {position:absolute;top:0;bottom:0;right:0;left:0;}&lt;/style&gt;\n",
              "    &lt;script src=&quot;https://cdn.jsdelivr.net/npm/leaflet@1.9.3/dist/leaflet.js&quot;&gt;&lt;/script&gt;\n",
              "    &lt;script src=&quot;https://code.jquery.com/jquery-1.12.4.min.js&quot;&gt;&lt;/script&gt;\n",
              "    &lt;script src=&quot;https://cdn.jsdelivr.net/npm/bootstrap@5.2.2/dist/js/bootstrap.bundle.min.js&quot;&gt;&lt;/script&gt;\n",
              "    &lt;script src=&quot;https://cdnjs.cloudflare.com/ajax/libs/Leaflet.awesome-markers/2.0.2/leaflet.awesome-markers.js&quot;&gt;&lt;/script&gt;\n",
              "    &lt;link rel=&quot;stylesheet&quot; href=&quot;https://cdn.jsdelivr.net/npm/leaflet@1.9.3/dist/leaflet.css&quot;/&gt;\n",
              "    &lt;link rel=&quot;stylesheet&quot; href=&quot;https://cdn.jsdelivr.net/npm/bootstrap@5.2.2/dist/css/bootstrap.min.css&quot;/&gt;\n",
              "    &lt;link rel=&quot;stylesheet&quot; href=&quot;https://netdna.bootstrapcdn.com/bootstrap/3.0.0/css/bootstrap.min.css&quot;/&gt;\n",
              "    &lt;link rel=&quot;stylesheet&quot; href=&quot;https://cdn.jsdelivr.net/npm/@fortawesome/fontawesome-free@6.2.0/css/all.min.css&quot;/&gt;\n",
              "    &lt;link rel=&quot;stylesheet&quot; href=&quot;https://cdnjs.cloudflare.com/ajax/libs/Leaflet.awesome-markers/2.0.2/leaflet.awesome-markers.css&quot;/&gt;\n",
              "    &lt;link rel=&quot;stylesheet&quot; href=&quot;https://cdn.jsdelivr.net/gh/python-visualization/folium/folium/templates/leaflet.awesome.rotate.min.css&quot;/&gt;\n",
              "    \n",
              "            &lt;meta name=&quot;viewport&quot; content=&quot;width=device-width,\n",
              "                initial-scale=1.0, maximum-scale=1.0, user-scalable=no&quot; /&gt;\n",
              "            &lt;style&gt;\n",
              "                #map_f5a624c17ab923c46ab4588caa4fd137 {\n",
              "                    position: relative;\n",
              "                    width: 100.0%;\n",
              "                    height: 100.0%;\n",
              "                    left: 0.0%;\n",
              "                    top: 0.0%;\n",
              "                }\n",
              "                .leaflet-container { font-size: 1rem; }\n",
              "            &lt;/style&gt;\n",
              "        \n",
              "&lt;/head&gt;\n",
              "&lt;body&gt;\n",
              "    \n",
              "    \n",
              "            &lt;div class=&quot;folium-map&quot; id=&quot;map_f5a624c17ab923c46ab4588caa4fd137&quot; &gt;&lt;/div&gt;\n",
              "        \n",
              "&lt;/body&gt;\n",
              "&lt;script&gt;\n",
              "    \n",
              "    \n",
              "            var map_f5a624c17ab923c46ab4588caa4fd137 = L.map(\n",
              "                &quot;map_f5a624c17ab923c46ab4588caa4fd137&quot;,\n",
              "                {\n",
              "                    center: [55.0, -125.0],\n",
              "                    crs: L.CRS.EPSG3857,\n",
              "                    zoom: 5,\n",
              "                    zoomControl: true,\n",
              "                    preferCanvas: false,\n",
              "                }\n",
              "            );\n",
              "\n",
              "            \n",
              "\n",
              "        \n",
              "    \n",
              "            var tile_layer_61ae79bbba5d55d0afa8bfd4ce57bf5e = L.tileLayer(\n",
              "                &quot;https://{s}.tile.openstreetmap.org/{z}/{x}/{y}.png&quot;,\n",
              "                {&quot;attribution&quot;: &quot;Data by \\u0026copy; \\u003ca target=\\&quot;_blank\\&quot; href=\\&quot;http://openstreetmap.org\\&quot;\\u003eOpenStreetMap\\u003c/a\\u003e, under \\u003ca target=\\&quot;_blank\\&quot; href=\\&quot;http://www.openstreetmap.org/copyright\\&quot;\\u003eODbL\\u003c/a\\u003e.&quot;, &quot;detectRetina&quot;: false, &quot;maxNativeZoom&quot;: 18, &quot;maxZoom&quot;: 18, &quot;minZoom&quot;: 0, &quot;noWrap&quot;: false, &quot;opacity&quot;: 1, &quot;subdomains&quot;: &quot;abc&quot;, &quot;tms&quot;: false}\n",
              "            ).addTo(map_f5a624c17ab923c46ab4588caa4fd137);\n",
              "        \n",
              "    \n",
              "            var tile_layer_3507992715a2f614d7ef86836c8816bb = L.tileLayer(\n",
              "                &quot;https://earthengine.googleapis.com/v1/projects/bc-forest-health-v1-0/maps/8906859efc9f1d103a34d8498ed9fe9c-8904a1b7c5a9b4cae3bed3e4c76b7bb8/tiles/{z}/{x}/{y}&quot;,\n",
              "                {&quot;attribution&quot;: &quot;Map Data \\u0026copy; \\u003ca href=\\&quot;https://earthengine.google.com/\\&quot;\\u003eGoogle Earth Engine\\u003c/a\\u003e&quot;, &quot;detectRetina&quot;: false, &quot;maxNativeZoom&quot;: 18, &quot;maxZoom&quot;: 18, &quot;minZoom&quot;: 0, &quot;noWrap&quot;: false, &quot;opacity&quot;: 1, &quot;subdomains&quot;: &quot;abc&quot;, &quot;tms&quot;: false}\n",
              "            ).addTo(map_f5a624c17ab923c46ab4588caa4fd137);\n",
              "        \n",
              "&lt;/script&gt;\n",
              "&lt;/html&gt;\" style=\"position:absolute;width:100%;height:100%;left:0;top:0;border:none !important;\" allowfullscreen webkitallowfullscreen mozallowfullscreen></iframe></div></div>"
            ]
          },
          "metadata": {},
          "execution_count": 10
        }
      ]
    },
    {
      "cell_type": "code",
      "source": [],
      "metadata": {
        "id": "aLtqsBxdIex3"
      },
      "execution_count": null,
      "outputs": []
    }
  ]
}